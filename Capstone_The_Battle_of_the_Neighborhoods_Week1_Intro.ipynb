{
 "cells": [
  {
   "cell_type": "markdown",
   "metadata": {},
   "source": [
    "## Capstone Project-The Battle of the Neighborhoods (Week 1)\n",
    "### Applied Data Science Capstone by IBM/Coursera"
   ]
  },
  {
   "cell_type": "markdown",
   "metadata": {},
   "source": [
    "## Table of contents\n",
    "* [Introduction: Business Problem](#introduction)"
   ]
  },
  {
   "cell_type": "markdown",
   "metadata": {},
   "source": [
    "## Introduction: Business Problem <a name=\"introduction\"></a>"
   ]
  },
  {
   "cell_type": "markdown",
   "metadata": {},
   "source": [
    "With the COVID-19 pandemic, many businesses like offices, schools, colleges, etc. have been shut down forcing people to work/study from home. However, the food industry personnel do not have the opportunity to work from home and are required to continue with their daily work activities while adhering to the safety measures.\n",
    "\n",
    "What’s concerning is that it can survive on different surfaces for quite a long time and once we come in contact with a contaminated surface, we can get infected too. This naturally makes us think twice before ordering food online or before visiting a restaurant to dine-in.\n",
    "\n",
    "This would also change consumer behavior and would affect our decision while choosing any food outlet. Consumers would not only look at food outlets that serve good quality food at a good price but will also look at the hygiene rating and the area in which the food outlet is located in to ensure that safety and hygiene are not being compromised."
   ]
  }
 ],
 "metadata": {
  "kernelspec": {
   "display_name": "Python 3",
   "language": "python",
   "name": "python3"
  },
  "language_info": {
   "codemirror_mode": {
    "name": "ipython",
    "version": 3
   },
   "file_extension": ".py",
   "mimetype": "text/x-python",
   "name": "python",
   "nbconvert_exporter": "python",
   "pygments_lexer": "ipython3",
   "version": "3.7.6"
  }
 },
 "nbformat": 4,
 "nbformat_minor": 4
}
